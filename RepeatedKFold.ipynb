{
  "nbformat": 4,
  "nbformat_minor": 0,
  "metadata": {
    "colab": {
      "name": "Copia de Untitled7.ipynb",
      "provenance": [],
      "collapsed_sections": [],
      "authorship_tag": "ABX9TyOE2gFhVO5k2B1FTf5bbiPw",
      "include_colab_link": true
    },
    "kernelspec": {
      "name": "python3",
      "display_name": "Python 3"
    },
    "language_info": {
      "name": "python"
    }
  },
  "cells": [
    {
      "cell_type": "markdown",
      "metadata": {
        "id": "view-in-github",
        "colab_type": "text"
      },
      "source": [
        "<a href=\"https://colab.research.google.com/github/angelminsua/python/blob/main/RepeatedKFold.ipynb\" target=\"_parent\"><img src=\"https://colab.research.google.com/assets/colab-badge.svg\" alt=\"Open In Colab\"/></a>"
      ]
    },
    {
      "cell_type": "code",
      "metadata": {
        "colab": {
          "base_uri": "https://localhost:8080/"
        },
        "id": "DCP1cwwWuC43",
        "outputId": "669baf3a-7e55-468a-f773-cd2c588fba87"
      },
      "source": [
        "import numpy as np\n",
        "from sklearn.model_selection import RepeatedKFold\n",
        "\n",
        "X = np.array([[1, 2], [3, 4], [1, 2], [3, 4]])\n",
        "print(\"X[0]=\", X[0])\n",
        "print(\"X[1]=\", X[1])\n",
        "print(\"X[2]=\", X[2])\n",
        "print(\"X[3]=\", X[3])\n",
        "\n",
        "random_state = 12883823\n",
        "rkf = RepeatedKFold(n_splits=2, n_repeats=1, random_state=random_state)\n",
        "for train, test in rkf.split(X): #split genera 2 arrays de entrenamiento y test que contienen los índices de X (no los valores de X)\n",
        "  print(\"train: %s , test: %s\" % (train, test)) #train [2 3] , test: [0 1] significa que coge para el entrenamiento X[2] y X[3] y para el test X[0] y X[1]\n",
        "  \n"
      ],
      "execution_count": null,
      "outputs": [
        {
          "output_type": "stream",
          "name": "stdout",
          "text": [
            "X[0]= [1 2]\n",
            "X[1]= [3 4]\n",
            "X[2]= [1 2]\n",
            "X[3]= [3 4]\n",
            "train: [2 3] , test: [0 1]\n",
            "train: [0 1] , test: [2 3]\n"
          ]
        }
      ]
    }
  ]
}