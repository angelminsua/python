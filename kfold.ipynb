{
  "nbformat": 4,
  "nbformat_minor": 0,
  "metadata": {
    "colab": {
      "name": "Untitled8.ipynb",
      "provenance": [],
      "collapsed_sections": [],
      "authorship_tag": "ABX9TyPib2viPq8JZQDijCg4Hss5",
      "include_colab_link": true
    },
    "kernelspec": {
      "name": "python3",
      "display_name": "Python 3"
    },
    "language_info": {
      "name": "python"
    }
  },
  "cells": [
    {
      "cell_type": "markdown",
      "metadata": {
        "id": "view-in-github",
        "colab_type": "text"
      },
      "source": [
        "<a href=\"https://colab.research.google.com/github/angelminsua/python/blob/main/kfold.ipynb\" target=\"_parent\"><img src=\"https://colab.research.google.com/assets/colab-badge.svg\" alt=\"Open In Colab\"/></a>"
      ]
    },
    {
      "cell_type": "code",
      "metadata": {
        "colab": {
          "base_uri": "https://localhost:8080/"
        },
        "id": "MCv9_TZmuw--",
        "outputId": "131073be-fd2f-4376-e6fc-298a04d58ee6"
      },
      "source": [
        "import numpy as np\n",
        "from sklearn.model_selection import KFold\n",
        "\n",
        "X = [\"a\", \"b\", \"c\", \"d\"]\n",
        "kf = KFold(n_splits=2)\n",
        "for train, test in kf.split(X): #split genera 2 arrays de entrenamiento y test que tienen los índices de X (no los valores de X)\n",
        "  print(\"train: %s , test: %s\" % (train, test))\n",
        "  print(train[0])"
      ],
      "execution_count": 3,
      "outputs": [
        {
          "output_type": "stream",
          "name": "stdout",
          "text": [
            "train: [2 3] , test: [0 1]\n",
            "2\n",
            "train: [0 1] , test: [2 3]\n",
            "0\n"
          ]
        }
      ]
    }
  ]
}