{
  "nbformat": 4,
  "nbformat_minor": 0,
  "metadata": {
    "colab": {
      "name": "KFold.ipynb",
      "provenance": [],
      "collapsed_sections": [],
      "authorship_tag": "ABX9TyMl+Lx3skaG8vLiBZ1jZpx3",
      "include_colab_link": true
    },
    "kernelspec": {
      "name": "python3",
      "display_name": "Python 3"
    },
    "language_info": {
      "name": "python"
    }
  },
  "cells": [
    {
      "cell_type": "markdown",
      "metadata": {
        "id": "view-in-github",
        "colab_type": "text"
      },
      "source": [
        "<a href=\"https://colab.research.google.com/github/angelminsua/python/blob/main/KFold.ipynb\" target=\"_parent\"><img src=\"https://colab.research.google.com/assets/colab-badge.svg\" alt=\"Open In Colab\"/></a>"
      ]
    },
    {
      "cell_type": "code",
      "metadata": {
        "colab": {
          "base_uri": "https://localhost:8080/"
        },
        "id": "MCv9_TZmuw--",
        "outputId": "4abac7e9-7171-49e2-c9b0-9cf23769a8ea"
      },
      "source": [
        "\"\"\"\n",
        "K-Folds cross-validator\n",
        "Provides train/test indices to split data in train/test sets. Split dataset into k consecutive folds (without shuffling by default).\n",
        "Each fold is then used once as a validation while the k - 1 remaining folds form the training set.\n",
        "\n",
        "The first n_samples % n_splits folds have size n_samples // n_splits + 1, other folds have size n_samples // n_splits, where n_samples is the number of samples.\n",
        "Randomized CV splitters may return different results for each call of split. You can make the results identical by setting random_state to an integer.\n",
        "\"\"\"\n",
        "\n",
        "import numpy as np\n",
        "from sklearn.model_selection import KFold\n",
        "\n",
        "X = np.array([\"a\", \"b\", \"c\", \"d\", \"e\", \"f\", \"g\", \"h\", \"i\", \"j\",\"k\", \"l\", \"m\", \"n\", \"o\", \"p\", \"q\", \"r\", \"s\", \"t\",])\n",
        "y = np.array([ 0,   1,   2,   3,   4,   5,   6,   7,   8,   9,   10, 11,  12,  13,  14,  15,  16,  17,  18,  19])\n",
        "kf = KFold(n_splits=4)\n",
        "i=0\n",
        "for train, test in kf.split(X): #split genera 2 arrays de entrenamiento y test que contienen los índices de X (no los valores de X)\n",
        "  print(\"i=\", i)\n",
        "  print(\"train: %s , test: %s\" % (train, test)) #train [2 3] , test: [0 1] significa que coge para el entrenamiento X[2] y X[3] y para el test X[0] y X[1]\n",
        "  #ahora que tenemos los indices creamos el dataset de entrenamiento y test\n",
        "  train_dataset, test_data, train_labels, test_labels  = X[train], X[test], y[train], y[test]\n",
        "  print(\"dataset de entrenamiento=\", train_dataset)\n",
        "  print(\"dataset de test=\", test_data)\n",
        "  i = i+1\n",
        "  \n"
      ],
      "execution_count": 5,
      "outputs": [
        {
          "output_type": "stream",
          "name": "stdout",
          "text": [
            "i= 0\n",
            "train: [ 5  6  7  8  9 10 11 12 13 14 15 16 17 18 19] , test: [0 1 2 3 4]\n",
            "dataset de entrenamiento= ['f' 'g' 'h' 'i' 'j' 'k' 'l' 'm' 'n' 'o' 'p' 'q' 'r' 's' 't']\n",
            "dataset de test= ['a' 'b' 'c' 'd' 'e']\n",
            "i= 1\n",
            "train: [ 0  1  2  3  4 10 11 12 13 14 15 16 17 18 19] , test: [5 6 7 8 9]\n",
            "dataset de entrenamiento= ['a' 'b' 'c' 'd' 'e' 'k' 'l' 'm' 'n' 'o' 'p' 'q' 'r' 's' 't']\n",
            "dataset de test= ['f' 'g' 'h' 'i' 'j']\n",
            "i= 2\n",
            "train: [ 0  1  2  3  4  5  6  7  8  9 15 16 17 18 19] , test: [10 11 12 13 14]\n",
            "dataset de entrenamiento= ['a' 'b' 'c' 'd' 'e' 'f' 'g' 'h' 'i' 'j' 'p' 'q' 'r' 's' 't']\n",
            "dataset de test= ['k' 'l' 'm' 'n' 'o']\n",
            "i= 3\n",
            "train: [ 0  1  2  3  4  5  6  7  8  9 10 11 12 13 14] , test: [15 16 17 18 19]\n",
            "dataset de entrenamiento= ['a' 'b' 'c' 'd' 'e' 'f' 'g' 'h' 'i' 'j' 'k' 'l' 'm' 'n' 'o']\n",
            "dataset de test= ['p' 'q' 'r' 's' 't']\n"
          ]
        }
      ]
    }
  ]
}